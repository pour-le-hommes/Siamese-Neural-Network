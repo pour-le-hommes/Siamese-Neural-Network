{
 "cells": [
  {
   "cell_type": "code",
   "execution_count": 140,
   "id": "8be1faa4",
   "metadata": {},
   "outputs": [],
   "source": [
    "import cv2\n",
    "import os\n",
    "import random\n",
    "import matplotlib.pyplot as plt\n",
    "import numpy as np\n",
    "import uuid"
   ]
  },
  {
   "cell_type": "code",
   "execution_count": 141,
   "id": "61438e2c",
   "metadata": {},
   "outputs": [],
   "source": [
    "from tensorflow.keras.models import Model\n",
    "from tensorflow.keras.layers import Flatten, Conv2D, Layer, MaxPooling2D, Input, Dense\n",
    "import tensorflow as tf"
   ]
  },
  {
   "cell_type": "markdown",
   "id": "c5b0ff1a",
   "metadata": {},
   "source": [
    "## For GPU Computers"
   ]
  },
  {
   "cell_type": "code",
   "execution_count": 142,
   "id": "89c3f2fe",
   "metadata": {},
   "outputs": [],
   "source": [
    "# gpus = tf.config.list_physical_devices(\"GPU\")\n",
    "# for gpu in gpus:\n",
    "#     tf.experimental.set_memory_growth(gpu,True)"
   ]
  },
  {
   "cell_type": "markdown",
   "id": "aa3511b0",
   "metadata": {},
   "source": [
    "## Make Directories"
   ]
  },
  {
   "cell_type": "code",
   "execution_count": 10,
   "id": "99a34052",
   "metadata": {},
   "outputs": [],
   "source": [
    "Positive_path = os.path.join(\"Data\",\"positive\")\n",
    "Negative_path = os.path.join(\"Data\",\"negative\")\n",
    "Anchors_path = os.path.join(\"Data\",\"anchors\")"
   ]
  },
  {
   "cell_type": "code",
   "execution_count": 5,
   "id": "cc0d7cd6",
   "metadata": {},
   "outputs": [
    {
     "name": "stdout",
     "output_type": "stream",
     "text": [
      "Directory already created\n",
      "Directory already created\n",
      "Directory already created\n",
      "Directory already created\n"
     ]
    }
   ],
   "source": [
    "try:\n",
    "    os.mkdir(\"Data\")\n",
    "except:\n",
    "    print(\"Directory already created\")\n",
    "\n",
    "try:\n",
    "    os.mkdir(Positive_path)\n",
    "except:\n",
    "    print(\"Directory already created\")\n",
    "\n",
    "try:\n",
    "    os.mkdir(Negative_path)\n",
    "except:\n",
    "    print(\"Directory already created\")\n",
    "    \n",
    "try:\n",
    "    os.mkdir(Anchors_path)\n",
    "except:\n",
    "    print(\"Directory already created\")"
   ]
  },
  {
   "cell_type": "markdown",
   "id": "faaecd50",
   "metadata": {},
   "source": [
    "# Input Datas Positive and Negative"
   ]
  },
  {
   "cell_type": "markdown",
   "id": "a44ddda9",
   "metadata": {},
   "source": [
    "# Negative Files\n",
    "### http://vis-www.cs.umass.edu/lfw/"
   ]
  },
  {
   "cell_type": "code",
   "execution_count": 6,
   "id": "610b954b",
   "metadata": {},
   "outputs": [],
   "source": [
    "# !tar -xf lfw.tgz\n",
    "\n",
    "# for direc in os.listdir(\"lfw\"):\n",
    "#     for file in os.listdir(f\"lfw\\{direc}\"):\n",
    "#         old_path = os.path.join(\"lfw\",direc,file)\n",
    "#         new_path = os.path.join(Negative_path,file)\n",
    "#         os.replace(old_path,new_path)"
   ]
  },
  {
   "cell_type": "markdown",
   "id": "368b5458",
   "metadata": {},
   "source": [
    "# Positive Files"
   ]
  },
  {
   "cell_type": "code",
   "execution_count": 7,
   "id": "0cb9dd28",
   "metadata": {},
   "outputs": [
    {
     "name": "stdout",
     "output_type": "stream",
     "text": [
      "CV_CAP_PROP_FRAME_WIDTH: '640.0'\n",
      "CV_CAP_PROP_FRAME_HEIGHT : '480.0'\n"
     ]
    }
   ],
   "source": [
    "cap = cv2.VideoCapture(0) # Establish connection to webcam\n",
    "print(\"CV_CAP_PROP_FRAME_WIDTH: '{}'\".format(cap.get(cv2.CAP_PROP_FRAME_WIDTH)))\n",
    "print(\"CV_CAP_PROP_FRAME_HEIGHT : '{}'\".format(cap.get(cv2.CAP_PROP_FRAME_HEIGHT)))\n",
    "\n",
    "starting_height = 150\n",
    "starting_width = 180\n",
    "\n",
    "while cap.isOpened():\n",
    "    ret, frame = cap.read() # return value and frame\n",
    "    \n",
    "    frame = frame[starting_height:starting_height+250,starting_width:starting_width+250,:]\n",
    "    \n",
    "    # Save positives and anchors\n",
    "    if cv2.waitKey(1) & 0XFF == ord(\"p\"):\n",
    "        positive_image = os.path.join(Positive_path,\"{}.jpg\".format(uuid.uuid1()))\n",
    "        cv2.imwrite(positive_image,frame)\n",
    "        \n",
    "    if cv2.waitKey(1) & 0XFF == ord(\"a\"):\n",
    "        anchor_image = os.path.join(Anchors_path,\"{}.jpg\".format(uuid.uuid1()))\n",
    "        cv2.imwrite(anchor_image,frame)\n",
    "    \n",
    "    \n",
    "    cv2.imshow(\"Image_Collection_Positive\", frame) #Show Image\n",
    "    \n",
    "    if cv2.waitKey(1) & 0XFF == ord(\"q\"):\n",
    "        break\n",
    "# Release webcam\n",
    "cap.release()\n",
    "# Close image show frame\n",
    "cv2.destroyAllWindows()"
   ]
  },
  {
   "cell_type": "code",
   "execution_count": 8,
   "id": "96be52fe",
   "metadata": {},
   "outputs": [],
   "source": [
    "# capture=cv2.VideoCapture(0)\n",
    "  \n",
    "# # showing values of the properties\n",
    "# print(\"CV_CAP_PROP_FRAME_WIDTH: '{}'\".format(capture.get(cv2.CAP_PROP_FRAME_WIDTH)))\n",
    "# print(\"CV_CAP_PROP_FRAME_HEIGHT : '{}'\".format(capture.get(cv2.CAP_PROP_FRAME_HEIGHT)))\n",
    "# print(\"CAP_PROP_FPS : '{}'\".format(capture.get(cv2.CAP_PROP_FPS)))\n",
    "# print(\"CAP_PROP_POS_MSEC : '{}'\".format(capture.get(cv2.CAP_PROP_POS_MSEC)))\n",
    "# print(\"CAP_PROP_FRAME_COUNT  : '{}'\".format(capture.get(cv2.CAP_PROP_FRAME_COUNT)))\n",
    "# print(\"CAP_PROP_BRIGHTNESS : '{}'\".format(capture.get(cv2.CAP_PROP_BRIGHTNESS)))\n",
    "# print(\"CAP_PROP_CONTRAST : '{}'\".format(capture.get(cv2.CAP_PROP_CONTRAST)))\n",
    "# print(\"CAP_PROP_SATURATION : '{}'\".format(capture.get(cv2.CAP_PROP_SATURATION)))\n",
    "# print(\"CAP_PROP_HUE : '{}'\".format(capture.get(cv2.CAP_PROP_HUE)))\n",
    "# print(\"CAP_PROP_GAIN  : '{}'\".format(capture.get(cv2.CAP_PROP_GAIN)))\n",
    "# print(\"CAP_PROP_CONVERT_RGB : '{}'\".format(capture.get(cv2.CAP_PROP_CONVERT_RGB)))\n",
    "  \n",
    "# # release window\n",
    "# capture.release()\n",
    "# cv2.destroyAllWindows()"
   ]
  },
  {
   "cell_type": "markdown",
   "id": "180130f1",
   "metadata": {},
   "source": [
    "# Preprocessing"
   ]
  },
  {
   "cell_type": "code",
   "execution_count": 11,
   "id": "100ddd71",
   "metadata": {},
   "outputs": [],
   "source": [
    "positive = tf.data.Dataset.list_files(os.path.join(Positive_path,\"*.jpg\")).take(300)\n",
    "negative = tf.data.Dataset.list_files(os.path.join(Negative_path,\"*.jpg\")).take(300)\n",
    "anchor = tf.data.Dataset.list_files(os.path.join(Anchors_path,\"*.jpg\")).take(300)"
   ]
  },
  {
   "cell_type": "code",
   "execution_count": 12,
   "id": "f7a63c2a",
   "metadata": {},
   "outputs": [],
   "source": [
    "def prepro(data_path):\n",
    "    bitting_img = tf.io.read_file(data_path)\n",
    "    img = tf.io.decode_jpeg(bitting_img)\n",
    "    img = tf.image.resize(img, (100,100))\n",
    "    img = img/255.0\n",
    "    return img"
   ]
  },
  {
   "cell_type": "code",
   "execution_count": 13,
   "id": "96440bb0",
   "metadata": {},
   "outputs": [
    {
     "data": {
      "text/plain": [
       "<_TakeDataset element_spec=TensorSpec(shape=(), dtype=tf.string, name=None)>"
      ]
     },
     "execution_count": 13,
     "metadata": {},
     "output_type": "execute_result"
    }
   ],
   "source": [
    "anchor"
   ]
  },
  {
   "cell_type": "code",
   "execution_count": 14,
   "id": "88006b04",
   "metadata": {},
   "outputs": [],
   "source": [
    "positives = tf.data.Dataset.zip((anchor,positive, tf.data.Dataset.from_tensor_slices(tf.ones(len(anchor)))))\n",
    "negatives = tf.data.Dataset.zip((anchor,negative, tf.data.Dataset.from_tensor_slices(tf.zeros(len(anchor)))))\n",
    "\n",
    "data = positives.concatenate(negatives)"
   ]
  },
  {
   "cell_type": "code",
   "execution_count": 15,
   "id": "ce661e96",
   "metadata": {},
   "outputs": [],
   "source": [
    "def preprocess_twin(anchor,data,label):\n",
    "    return(prepro(anchor),prepro(data),label)"
   ]
  },
  {
   "cell_type": "code",
   "execution_count": 16,
   "id": "be099c1a",
   "metadata": {},
   "outputs": [],
   "source": [
    "data = data.map(preprocess_twin)\n",
    "data = data.cache()\n",
    "data = data.shuffle(buffer_size=1024)"
   ]
  },
  {
   "cell_type": "code",
   "execution_count": 17,
   "id": "9c276f8d",
   "metadata": {},
   "outputs": [],
   "source": [
    "# training partition\n",
    "train_data = data.take(round(len(data)*0.7))\n",
    "train_data = train_data.batch(16)\n",
    "train_data = train_data.prefetch(8)\n",
    "\n",
    "# testing partition\n",
    "test_data = data.skip(round(len(data)*0.7))\n",
    "test_data = test_data.take(round(len(data)*0.3))\n",
    "test_data = test_data.batch(16)\n",
    "test_data = test_data.prefetch(8)"
   ]
  },
  {
   "cell_type": "markdown",
   "id": "bd59e5de",
   "metadata": {},
   "source": [
    "# Making Layers"
   ]
  },
  {
   "cell_type": "code",
   "execution_count": 18,
   "id": "65fbcc8f",
   "metadata": {},
   "outputs": [],
   "source": [
    "def make_embedding():\n",
    "    # c1,c2,c3,c4 is convolution+relu+stride layer\n",
    "    # m1,m2,m3 is max pooling layer\n",
    "    \n",
    "    input_layer = Input(shape=(100,100,3),name=\"Input_Image\")\n",
    "    \n",
    "    # First Block\n",
    "    c1 = Conv2D(64,(10,10), activation=\"relu\")(input_layer)\n",
    "    m1 = MaxPooling2D(64,(2,2), padding=\"same\")(c1)\n",
    "    \n",
    "    # Second Block\n",
    "    c2 = Conv2D(128,(7,7), activation=\"relu\")(m1)\n",
    "    m2 = MaxPooling2D(128,(2,2), padding=\"same\")(m1)\n",
    "    \n",
    "    # Third Block\n",
    "    c3 = Conv2D(128,(4,4), activation=\"relu\")(m2)\n",
    "    m3 = MaxPooling2D(64,(2,2), padding=\"same\")(c3)\n",
    "    \n",
    "    # Final Block\n",
    "    c4 = Conv2D(256, (4,4), activation = \"relu\")(m3)\n",
    "    f1 = Flatten()(c4)\n",
    "    d1 = Dense(4096, activation=\"sigmoid\")(f1)\n",
    "    \n",
    "    return Model(inputs=[input_layer] ,outputs=[d1] ,name=\"embedding\" )"
   ]
  },
  {
   "cell_type": "code",
   "execution_count": 19,
   "id": "4e5826c9",
   "metadata": {},
   "outputs": [],
   "source": [
    "embedding_model = make_embedding()"
   ]
  },
  {
   "cell_type": "code",
   "execution_count": 20,
   "id": "ec1bca29",
   "metadata": {},
   "outputs": [
    {
     "name": "stdout",
     "output_type": "stream",
     "text": [
      "Model: \"embedding\"\n",
      "_________________________________________________________________\n",
      " Layer (type)                Output Shape              Param #   \n",
      "=================================================================\n",
      " Input_Image (InputLayer)    [(None, 100, 100, 3)]     0         \n",
      "                                                                 \n",
      " conv2d (Conv2D)             (None, 91, 91, 64)        19264     \n",
      "                                                                 \n",
      " max_pooling2d (MaxPooling2  (None, 46, 46, 64)        0         \n",
      " D)                                                              \n",
      "                                                                 \n",
      " max_pooling2d_1 (MaxPoolin  (None, 23, 23, 64)        0         \n",
      " g2D)                                                            \n",
      "                                                                 \n",
      " conv2d_2 (Conv2D)           (None, 20, 20, 128)       131200    \n",
      "                                                                 \n",
      " max_pooling2d_2 (MaxPoolin  (None, 10, 10, 128)       0         \n",
      " g2D)                                                            \n",
      "                                                                 \n",
      " conv2d_3 (Conv2D)           (None, 7, 7, 256)         524544    \n",
      "                                                                 \n",
      " flatten (Flatten)           (None, 12544)             0         \n",
      "                                                                 \n",
      " dense (Dense)               (None, 4096)              51384320  \n",
      "                                                                 \n",
      "=================================================================\n",
      "Total params: 52059328 (198.59 MB)\n",
      "Trainable params: 52059328 (198.59 MB)\n",
      "Non-trainable params: 0 (0.00 Byte)\n",
      "_________________________________________________________________\n"
     ]
    }
   ],
   "source": [
    "embedding_model.summary()"
   ]
  },
  {
   "cell_type": "code",
   "execution_count": 21,
   "id": "ef15fb65",
   "metadata": {},
   "outputs": [],
   "source": [
    "# l1Dist\n",
    "class L1Dist(Layer):\n",
    "    def __init__(self,**kwargs):\n",
    "        super().__init__()\n",
    "    \n",
    "    # Compare similarity\n",
    "    def call(self, input_embedding, validation_embedding):\n",
    "        return tf.math.abs(input_embedding - validation_embedding)"
   ]
  },
  {
   "cell_type": "code",
   "execution_count": 22,
   "id": "3b69f365",
   "metadata": {},
   "outputs": [],
   "source": [
    "def make_siamese_model():\n",
    "    \n",
    "    input_image = Input(name=\"Input_image\", shape=(100,100,3))\n",
    "    \n",
    "    validation_image = Input(name=\"Anchor_image\", shape=(100,100,3))\n",
    "    \n",
    "    siamese_layer = L1Dist()\n",
    "    siamese_layer._name = \"distance\"\n",
    "    distances = siamese_layer(embedding_model(input_image), embedding_model(validation_image))\n",
    "    \n",
    "    classifier = Dense(1, activation=\"sigmoid\")(distances)\n",
    "    \n",
    "    return Model(inputs=[input_image, validation_image], outputs=classifier, name=\"SiameseNetwork\")"
   ]
  },
  {
   "cell_type": "code",
   "execution_count": 23,
   "id": "0419f0f1",
   "metadata": {},
   "outputs": [],
   "source": [
    "siamese_model = make_siamese_model()"
   ]
  },
  {
   "cell_type": "code",
   "execution_count": 24,
   "id": "342bb779",
   "metadata": {},
   "outputs": [
    {
     "name": "stdout",
     "output_type": "stream",
     "text": [
      "Model: \"SiameseNetwork\"\n",
      "__________________________________________________________________________________________________\n",
      " Layer (type)                Output Shape                 Param #   Connected to                  \n",
      "==================================================================================================\n",
      " Input_image (InputLayer)    [(None, 100, 100, 3)]        0         []                            \n",
      "                                                                                                  \n",
      " Anchor_image (InputLayer)   [(None, 100, 100, 3)]        0         []                            \n",
      "                                                                                                  \n",
      " embedding (Functional)      (None, 4096)                 5205932   ['Input_image[0][0]',         \n",
      "                                                          8          'Anchor_image[0][0]']        \n",
      "                                                                                                  \n",
      " distance (L1Dist)           (None, 4096)                 0         ['embedding[0][0]',           \n",
      "                                                                     'embedding[1][0]']           \n",
      "                                                                                                  \n",
      " dense_1 (Dense)             (None, 1)                    4097      ['distance[0][0]']            \n",
      "                                                                                                  \n",
      "==================================================================================================\n",
      "Total params: 52063425 (198.61 MB)\n",
      "Trainable params: 52063425 (198.61 MB)\n",
      "Non-trainable params: 0 (0.00 Byte)\n",
      "__________________________________________________________________________________________________\n"
     ]
    }
   ],
   "source": [
    "siamese_model.summary()"
   ]
  },
  {
   "cell_type": "markdown",
   "id": "af977a8b",
   "metadata": {},
   "source": [
    "# Training"
   ]
  },
  {
   "cell_type": "code",
   "execution_count": 25,
   "id": "579a66bf",
   "metadata": {},
   "outputs": [],
   "source": [
    "binary_xentropy_loss = tf.losses.BinaryCrossentropy()"
   ]
  },
  {
   "cell_type": "code",
   "execution_count": 26,
   "id": "0a495551",
   "metadata": {},
   "outputs": [],
   "source": [
    "optimizer = tf.keras.optimizers.Adam(1e-4)"
   ]
  },
  {
   "cell_type": "code",
   "execution_count": 27,
   "id": "05a56a9f",
   "metadata": {},
   "outputs": [
    {
     "name": "stdout",
     "output_type": "stream",
     "text": [
      "Training checkpoint made\n"
     ]
    }
   ],
   "source": [
    "try:\n",
    "    os.mkdir(\"training_checkpoint\")\n",
    "except:\n",
    "    print(\"Training checkpoint made\")"
   ]
  },
  {
   "cell_type": "code",
   "execution_count": 28,
   "id": "6424305d",
   "metadata": {},
   "outputs": [],
   "source": [
    "checkpoint_dir = \"./training_checkpoint\"\n",
    "checkpoint_prefix = os.path.join(checkpoint_dir,\"ckpt\")\n",
    "checkpoint = tf.train.Checkpoint(opt=optimizer,siamese_model=siamese_model)"
   ]
  },
  {
   "cell_type": "code",
   "execution_count": 29,
   "id": "701d95de",
   "metadata": {},
   "outputs": [],
   "source": [
    "@tf.function\n",
    "def train_step(batch):\n",
    "    with tf.GradientTape() as tape:\n",
    "        x = batch[:2]\n",
    "        y = batch[2]\n",
    "        \n",
    "        yhat = siamese_model(x, training=True)\n",
    "        \n",
    "        loss = binary_xentropy_loss(y, yhat)\n",
    "        \n",
    "    grad = tape.gradient(loss, siamese_model.trainable_variables)\n",
    "    \n",
    "    optimizer.apply_gradients(zip(grad,siamese_model.trainable_variables))\n",
    "    \n",
    "    return loss"
   ]
  },
  {
   "cell_type": "code",
   "execution_count": 30,
   "id": "c6c4feea",
   "metadata": {},
   "outputs": [],
   "source": [
    "def train_loop(train_data, Epochs):\n",
    "    for Epoch in range(1,Epochs+1):\n",
    "        print(\"\\n Epoch {}/{}\".format(Epoch,Epochs))\n",
    "        progbar = tf.keras.utils.Progbar(len(train_data))\n",
    "        \n",
    "        for idx, batch in enumerate(train_data):\n",
    "            train_step(batch)\n",
    "            progbar.update(idx+1)\n",
    "            \n",
    "            if Epoch % 10 ==0:\n",
    "                checkpoint.save(file_prefix=checkpoint_prefix)"
   ]
  },
  {
   "cell_type": "code",
   "execution_count": 31,
   "id": "8446c77e",
   "metadata": {},
   "outputs": [],
   "source": [
    "Epochs = 60"
   ]
  },
  {
   "cell_type": "code",
   "execution_count": 32,
   "id": "81bf5b8c",
   "metadata": {},
   "outputs": [],
   "source": [
    "# train_loop(train_data,Epochs)"
   ]
  },
  {
   "cell_type": "markdown",
   "id": "12e5fad5",
   "metadata": {},
   "source": [
    "# Metrics"
   ]
  },
  {
   "cell_type": "code",
   "execution_count": 62,
   "id": "bfef2c7b",
   "metadata": {},
   "outputs": [],
   "source": [
    "from tensorflow.keras.metrics import Precision, Recall, F1Score"
   ]
  },
  {
   "cell_type": "code",
   "execution_count": 132,
   "id": "f1d619c5",
   "metadata": {},
   "outputs": [],
   "source": [
    "test_input, test_val, y_true = test_data.as_numpy_iterator().next() # Input, validation image, and value"
   ]
  },
  {
   "cell_type": "code",
   "execution_count": 133,
   "id": "72cac99f",
   "metadata": {},
   "outputs": [
    {
     "name": "stdout",
     "output_type": "stream",
     "text": [
      "1/1 [==============================] - 1s 1s/step\n"
     ]
    }
   ],
   "source": [
    "predictions = siamese_model.predict([test_input, test_val])"
   ]
  },
  {
   "cell_type": "code",
   "execution_count": 134,
   "id": "19fa1c1c",
   "metadata": {},
   "outputs": [],
   "source": [
    "asd = np.array([1 if prediction > 0.5 else 0 for prediction in predictions])"
   ]
  },
  {
   "cell_type": "code",
   "execution_count": 135,
   "id": "872ac64e",
   "metadata": {},
   "outputs": [
    {
     "data": {
      "text/plain": [
       "array([1, 1, 1, 1, 0, 1, 1, 0, 0, 0, 0, 1, 1, 0, 1, 1])"
      ]
     },
     "execution_count": 135,
     "metadata": {},
     "output_type": "execute_result"
    }
   ],
   "source": [
    "asd"
   ]
  },
  {
   "cell_type": "code",
   "execution_count": 136,
   "id": "2730726a",
   "metadata": {},
   "outputs": [
    {
     "data": {
      "text/plain": [
       "array([0., 0., 0., 0., 0., 0., 1., 1., 0., 0., 0., 0., 1., 0., 0., 0.],\n",
       "      dtype=float32)"
      ]
     },
     "execution_count": 136,
     "metadata": {},
     "output_type": "execute_result"
    }
   ],
   "source": [
    "y_true"
   ]
  },
  {
   "cell_type": "code",
   "execution_count": 137,
   "id": "85103498",
   "metadata": {},
   "outputs": [
    {
     "data": {
      "text/plain": [
       "array([0.30769232], dtype=float32)"
      ]
     },
     "execution_count": 137,
     "metadata": {},
     "output_type": "execute_result"
    }
   ],
   "source": [
    "m = F1Score()\n",
    "m.update_state(np.expand_dims(y_true,1),np.expand_dims(asd,1))\n",
    "m.result().numpy() # 0 to 1, value of recall"
   ]
  },
  {
   "cell_type": "code",
   "execution_count": 138,
   "id": "2b4ad2aa",
   "metadata": {},
   "outputs": [
    {
     "data": {
      "text/plain": [
       "0.6666667"
      ]
     },
     "execution_count": 138,
     "metadata": {},
     "output_type": "execute_result"
    }
   ],
   "source": [
    "m = Recall()\n",
    "m.update_state(y_true,predictions)\n",
    "m.result().numpy() # 0 to 1, value of recall"
   ]
  },
  {
   "cell_type": "code",
   "execution_count": 131,
   "id": "c7b86061",
   "metadata": {},
   "outputs": [
    {
     "data": {
      "text/plain": [
       "0.6666667"
      ]
     },
     "execution_count": 131,
     "metadata": {},
     "output_type": "execute_result"
    }
   ],
   "source": [
    "m = Precision()\n",
    "m.update_state(y_true,predictions)\n",
    "m.result().numpy() # 0 to 1, value of recall"
   ]
  },
  {
   "cell_type": "markdown",
   "id": "5b1223b0",
   "metadata": {},
   "source": [
    "# Calculate Average Precision, Recall, F1 Score"
   ]
  },
  {
   "cell_type": "code",
   "execution_count": 73,
   "id": "9fcec0f3",
   "metadata": {},
   "outputs": [],
   "source": [
    "from tqdm import tqdm"
   ]
  },
  {
   "cell_type": "code",
   "execution_count": 92,
   "id": "09a6ce19",
   "metadata": {},
   "outputs": [
    {
     "name": "stdout",
     "output_type": "stream",
     "text": [
      "1/1 [==============================] - 1s 971ms/step\n",
      "1/1 [==============================] - 1s 1s/step\n",
      "1/1 [==============================] - 1s 1s/step\n",
      "1/1 [==============================] - 1s 1s/step\n",
      "1/1 [==============================] - 1s 1s/step\n",
      "1/1 [==============================] - 1s 1s/step\n",
      "1/1 [==============================] - 1s 1s/step\n",
      "1/1 [==============================] - 1s 1s/step\n",
      "1/1 [==============================] - 1s 1s/step\n",
      "1/1 [==============================] - 1s 1s/step\n",
      "1/1 [==============================] - 1s 1s/step\n",
      "1/1 [==============================] - 1s 1s/step\n",
      "1/1 [==============================] - 1s 1s/step\n",
      "1/1 [==============================] - 1s 1s/step\n",
      "1/1 [==============================] - 1s 1s/step\n",
      "1/1 [==============================] - 1s 1s/step\n",
      "1/1 [==============================] - 1s 1s/step\n",
      "1/1 [==============================] - 1s 1s/step\n",
      "1/1 [==============================] - 1s 1s/step\n",
      "1/1 [==============================] - 1s 1s/step\n",
      "1/1 [==============================] - 1s 1s/step\n",
      "1/1 [==============================] - 1s 1s/step\n",
      "1/1 [==============================] - 1s 1s/step\n",
      "1/1 [==============================] - 1s 1s/step\n",
      "1/1 [==============================] - 1s 1s/step\n",
      "1/1 [==============================] - 1s 1s/step\n",
      "1/1 [==============================] - 1s 1s/step\n",
      "1/1 [==============================] - 1s 1s/step\n",
      "1/1 [==============================] - 1s 1s/step\n",
      "1/1 [==============================] - 1s 1s/step\n",
      "1/1 [==============================] - 1s 1s/step\n",
      "1/1 [==============================] - 1s 1s/step\n",
      "1/1 [==============================] - 1s 1s/step\n",
      "1/1 [==============================] - 1s 1s/step\n",
      "1/1 [==============================] - 1s 1s/step\n",
      "1/1 [==============================] - 1s 1s/step\n",
      "1/1 [==============================] - 1s 1s/step\n",
      "1/1 [==============================] - 1s 1s/step\n",
      "1/1 [==============================] - 1s 1s/step\n",
      "1/1 [==============================] - 1s 1s/step\n",
      "1/1 [==============================] - 1s 1s/step\n",
      "1/1 [==============================] - 1s 1s/step\n",
      "1/1 [==============================] - 1s 1s/step\n",
      "1/1 [==============================] - 1s 1s/step\n",
      "1/1 [==============================] - 1s 1s/step\n",
      "1/1 [==============================] - 1s 1s/step\n",
      "1/1 [==============================] - 1s 1s/step\n",
      "1/1 [==============================] - 1s 1s/step\n",
      "1/1 [==============================] - 1s 1s/step\n",
      "1/1 [==============================] - 1s 1s/step\n",
      "1/1 [==============================] - 1s 1s/step\n",
      "1/1 [==============================] - 1s 1s/step\n",
      "1/1 [==============================] - 1s 1s/step\n",
      "1/1 [==============================] - 1s 1s/step\n",
      "1/1 [==============================] - 1s 1s/step\n",
      "1/1 [==============================] - 1s 1s/step\n",
      "1/1 [==============================] - 1s 1s/step\n",
      "1/1 [==============================] - 1s 1s/step\n",
      "1/1 [==============================] - 1s 1s/step\n",
      "1/1 [==============================] - 1s 1s/step\n",
      "1/1 [==============================] - 1s 1s/step\n",
      "1/1 [==============================] - 1s 1s/step\n",
      "1/1 [==============================] - 1s 1s/step\n",
      "1/1 [==============================] - 1s 1s/step\n",
      "1/1 [==============================] - 1s 1s/step\n",
      "1/1 [==============================] - 1s 1s/step\n",
      "1/1 [==============================] - 1s 1s/step\n",
      "1/1 [==============================] - 1s 1s/step\n",
      "1/1 [==============================] - 1s 1s/step\n",
      "1/1 [==============================] - 1s 1s/step\n",
      "1/1 [==============================] - 1s 1s/step\n",
      "1/1 [==============================] - 1s 1s/step\n",
      "1/1 [==============================] - 1s 1s/step\n",
      "1/1 [==============================] - 1s 1s/step\n",
      "1/1 [==============================] - 1s 1s/step\n",
      "1/1 [==============================] - 1s 1s/step\n",
      "1/1 [==============================] - 1s 1s/step\n",
      "1/1 [==============================] - 1s 1s/step\n",
      "1/1 [==============================] - 1s 1s/step\n",
      "1/1 [==============================] - 1s 1s/step\n",
      "1/1 [==============================] - 1s 1s/step\n",
      "1/1 [==============================] - 1s 1s/step\n",
      "1/1 [==============================] - 1s 1s/step\n",
      "1/1 [==============================] - 1s 1s/step\n",
      "1/1 [==============================] - 1s 1s/step\n",
      "1/1 [==============================] - 1s 1s/step\n",
      "1/1 [==============================] - 1s 1s/step\n",
      "1/1 [==============================] - 1s 1s/step\n",
      "1/1 [==============================] - 1s 1s/step\n",
      "1/1 [==============================] - 1s 1s/step\n",
      "1/1 [==============================] - 1s 1s/step\n",
      "1/1 [==============================] - 1s 1s/step\n",
      "1/1 [==============================] - 1s 1s/step\n",
      "1/1 [==============================] - 1s 1s/step\n",
      "1/1 [==============================] - 1s 1s/step\n",
      "1/1 [==============================] - 1s 1s/step\n",
      "1/1 [==============================] - 1s 1s/step\n",
      "1/1 [==============================] - 1s 1s/step\n",
      "1/1 [==============================] - 1s 1s/step\n",
      "1/1 [==============================] - 1s 1s/step\n"
     ]
    }
   ],
   "source": [
    "avg_precision = 0\n",
    "avg_recall = 0\n",
    "avg_f1score = 0\n",
    "\n",
    "\n",
    "for i in range(100):\n",
    "\n",
    "\n",
    "    test_input, test_val, y_true = test_data.as_numpy_iterator().next() # Input, validation image, and value\n",
    "    predictions = siamese_model.predict([test_input, test_val])\n",
    "    [1 if prediction > 0.5 else 0 for prediction in predictions]\n",
    "    m = F1Score()\n",
    "    m.update_state(np.expand_dims(y_true,1),predictions)\n",
    "    temp_f1score = float(m.result().numpy()) # 0 to 1, value of recall\n",
    "    avg_f1score = avg_f1score+temp_f1score\n",
    "    \n",
    "    m = Recall()\n",
    "    m.update_state(y_true,predictions)\n",
    "    m.result().numpy() # 0 to 1, value of recall\n",
    "    temp_recall = float(m.result().numpy()) # 0 to 1, value of recall\n",
    "    avg_recall = avg_recall+temp_recall\n",
    "    \n",
    "    m = Precision()\n",
    "    m.update_state(y_true,predictions)\n",
    "    m.result().numpy() # 0 to 1, value of recall\n",
    "    temp_precision = float(m.result().numpy()) # 0 to 1, value of recall\n",
    "    avg_precision = avg_precision+temp_precision"
   ]
  },
  {
   "cell_type": "code",
   "execution_count": 139,
   "id": "dfaf2bc8",
   "metadata": {},
   "outputs": [
    {
     "name": "stdout",
     "output_type": "stream",
     "text": [
      "====================================================================================================\n",
      "Precision : 0.440013133212924\n",
      "Recall : 0.4853643663972616\n",
      "F1-Score : 0.6400523623824119\n",
      "====================================================================================================\n"
     ]
    }
   ],
   "source": [
    "print(\"=\"*100)\n",
    "print(f\"Precision : {avg_precision/100}\")\n",
    "print(f\"Recall : {avg_recall/100}\")\n",
    "print(f\"F1-Score : {avg_f1score/100}\")\n",
    "print(\"=\"*100)"
   ]
  },
  {
   "cell_type": "markdown",
   "id": "6dbf9068",
   "metadata": {},
   "source": [
    "# Image Test"
   ]
  },
  {
   "cell_type": "code",
   "execution_count": 88,
   "id": "7fd8a46a",
   "metadata": {},
   "outputs": [],
   "source": [
    "val_test = 5"
   ]
  },
  {
   "cell_type": "code",
   "execution_count": 89,
   "id": "59a73ee0",
   "metadata": {},
   "outputs": [
    {
     "name": "stdout",
     "output_type": "stream",
     "text": [
      "0.0\n"
     ]
    },
    {
     "data": {
      "image/png": "[encoded data removed]",
      "text/plain": [
       "<Figure size 1296x576 with 2 Axes>"
      ]
     },
     "metadata": {
      "needs_background": "light"
     },
     "output_type": "display_data"
    }
   ],
   "source": [
    "print(y_true[val_test])\n",
    "\n",
    "plt.figure(figsize=(18,8))\n",
    "plt.subplot(1,2,1)\n",
    "plt.imshow(test_input[val_test])\n",
    "plt.subplot(1,2,2)\n",
    "plt.imshow(test_val[val_test])\n",
    "plt.show()"
   ]
  },
  {
   "cell_type": "markdown",
   "id": "2f220699",
   "metadata": {},
   "source": [
    "# Save Model"
   ]
  },
  {
   "cell_type": "code",
   "execution_count": 41,
   "id": "9082b5a3",
   "metadata": {},
   "outputs": [],
   "source": [
    "# siamese_model.save(\"siamese_model.h5\")"
   ]
  },
  {
   "cell_type": "code",
   "execution_count": 42,
   "id": "701209f7",
   "metadata": {},
   "outputs": [
    {
     "name": "stdout",
     "output_type": "stream",
     "text": [
      "WARNING:tensorflow:No training configuration found in the save file, so the model was *not* compiled. Compile it manually.\n"
     ]
    }
   ],
   "source": [
    "model = tf.keras.models.load_model(\"siamese_model.h5\",custom_objects={\"L1Dist\":L1Dist, \n",
    "                                                                           \"binary_xentropy_loss\":tf.losses.BinaryCrossentropy})"
   ]
  },
  {
   "cell_type": "code",
   "execution_count": 44,
   "id": "bee63b09",
   "metadata": {},
   "outputs": [
    {
     "data": {
      "text/plain": [
       "(16, 100, 100, 3)"
      ]
     },
     "execution_count": 44,
     "metadata": {},
     "output_type": "execute_result"
    }
   ],
   "source": [
    "test_input.shape"
   ]
  },
  {
   "cell_type": "code",
   "execution_count": 51,
   "id": "343203d7",
   "metadata": {},
   "outputs": [
    {
     "data": {
      "text/plain": [
       "array([1., 1., 1., 0., 0., 0., 0., 0., 1., 1., 0., 0., 1., 1., 1., 1.],\n",
       "      dtype=float32)"
      ]
     },
     "execution_count": 51,
     "metadata": {},
     "output_type": "execute_result"
    }
   ],
   "source": [
    "y_true"
   ]
  },
  {
   "cell_type": "code",
   "execution_count": 45,
   "id": "99e518e6",
   "metadata": {},
   "outputs": [
    {
     "name": "stdout",
     "output_type": "stream",
     "text": [
      "1/1 [==============================] - 1s 1s/step\n"
     ]
    },
    {
     "data": {
      "text/plain": [
       "array([[1.0000000e+00],\n",
       "       [1.0000000e+00],\n",
       "       [1.0000000e+00],\n",
       "       [5.4005547e-09],\n",
       "       [1.0462755e-11],\n",
       "       [4.1564053e-06],\n",
       "       [3.6553405e-07],\n",
       "       [4.6228008e-10],\n",
       "       [9.9999434e-01],\n",
       "       [1.0000000e+00],\n",
       "       [8.3171345e-09],\n",
       "       [4.7177556e-10],\n",
       "       [9.9999857e-01],\n",
       "       [1.0000000e+00],\n",
       "       [1.0000000e+00],\n",
       "       [9.9989796e-01]], dtype=float32)"
      ]
     },
     "execution_count": 45,
     "metadata": {},
     "output_type": "execute_result"
    }
   ],
   "source": [
    "y_pred = model.predict([test_input,test_val])"
   ]
  },
  {
   "cell_type": "code",
   "execution_count": 42,
   "id": "b7da1627",
   "metadata": {},
   "outputs": [
    {
     "name": "stdout",
     "output_type": "stream",
     "text": [
      "Model: \"SiameseNetwork\"\n",
      "__________________________________________________________________________________________________\n",
      " Layer (type)                Output Shape                 Param #   Connected to                  \n",
      "==================================================================================================\n",
      " Input_image (InputLayer)    [(None, 100, 100, 3)]        0         []                            \n",
      "                                                                                                  \n",
      " Anchor_image (InputLayer)   [(None, 100, 100, 3)]        0         []                            \n",
      "                                                                                                  \n",
      " embedding (Functional)      (None, 4096)                 5205932   ['Input_image[0][0]',         \n",
      "                                                          8          'Anchor_image[0][0]']        \n",
      "                                                                                                  \n",
      " l1_dist_1 (L1Dist)          (None, 4096)                 0         ['embedding[0][0]',           \n",
      "                                                                     'embedding[1][0]']           \n",
      "                                                                                                  \n",
      " dense_1 (Dense)             (None, 1)                    4097      ['l1_dist_1[0][0]']           \n",
      "                                                                                                  \n",
      "==================================================================================================\n",
      "Total params: 52063425 (198.61 MB)\n",
      "Trainable params: 52063425 (198.61 MB)\n",
      "Non-trainable params: 0 (0.00 Byte)\n",
      "__________________________________________________________________________________________________\n"
     ]
    }
   ],
   "source": [
    "model.summary()"
   ]
  },
  {
   "cell_type": "markdown",
   "id": "56fb7178",
   "metadata": {},
   "source": [
    "# Real-Time"
   ]
  },
  {
   "cell_type": "code",
   "execution_count": 43,
   "id": "15306e6f",
   "metadata": {},
   "outputs": [
    {
     "name": "stdout",
     "output_type": "stream",
     "text": [
      "Dir created\n",
      "Dir created\n",
      "Dir created\n"
     ]
    }
   ],
   "source": [
    "try:\n",
    "    os.mkdir(\"application_data\")\n",
    "except:\n",
    "    print(\"Dir created\")\n",
    "    \n",
    "try:\n",
    "    os.mkdir(\"application_data/verification_images\")\n",
    "except:\n",
    "    print(\"Dir created\")\n",
    "    \n",
    "try:\n",
    "    os.mkdir(\"application_data/input_images\")\n",
    "except:\n",
    "    print(\"Dir created\")"
   ]
  },
  {
   "cell_type": "code",
   "execution_count": 143,
   "id": "c31f0b43",
   "metadata": {},
   "outputs": [],
   "source": [
    "def verify(model, detection_threshold, verification_threshold):\n",
    "    results = []\n",
    "    \n",
    "    for image in os.listdir(\"application_data/verification_images\"):\n",
    "        input_img = prepro(\"application_data/input_images/input_image.jpg\")\n",
    "        verif_img = prepro(f\"application_data/verification_images/{image}\")\n",
    "        \n",
    "        result = model.predict(list(np.expand_dims([input_img,verif_img],axis=1)))\n",
    "        results.append(result)\n",
    "        \n",
    "    detection = np.sum(np.array(results) > detection_threshold)\n",
    "    verification = detection/len(os.listdir(\"application_data/verification_images\"))\n",
    "    verified = verification>verification_threshold\n",
    "    \n",
    "    return results, verified, detection, verification"
   ]
  },
  {
   "cell_type": "code",
   "execution_count": 144,
   "id": "cfa7eb2b",
   "metadata": {},
   "outputs": [],
   "source": [
    "# results = []\n",
    "\n",
    "# for image in os.listdir(\"application_data/verification_images\"):\n",
    "#     input_img = prepro(\"application_data/input_images/input_image.jpg\")\n",
    "#     verif_img = prepro(f\"application_data/verification_images/{image}\")\n",
    "\n",
    "#     result = model.predict(list(np.expand_dims([input_img,verif_img],axis=1)))\n",
    "#     results.append(result)"
   ]
  },
  {
   "cell_type": "code",
   "execution_count": 146,
   "id": "e5ee117c",
   "metadata": {},
   "outputs": [],
   "source": [
    "cap = cv2.VideoCapture(0)\n",
    "starting_height = 150\n",
    "starting_width = 180\n",
    "\n",
    "while cap.isOpened():\n",
    "    res, frame = cap.read()\n",
    "    \n",
    "    frame = frame[starting_height:starting_height+250,starting_width:starting_width+250,:]\n",
    "    \n",
    "    cv2.imshow(\"Verification\", frame)\n",
    "    \n",
    "    #Verification trigger\n",
    "    if cv2.waitKey(10) & 0XFF == ord(\"v\"):\n",
    "        cv2.imwrite(\"application_data/input_images/input_image.jpg\",frame)\n",
    "        \n",
    "        results, verified, detection, verification = verify(model,  0.3, 0.3)\n",
    "        print(detection, verification)\n",
    "        print(verified)\n",
    "    \n",
    "    if cv2.waitKey(10) & 0XFF == ord(\"q\"):\n",
    "        break\n",
    "        \n",
    "cap.release()\n",
    "cv2.destroyAllWindows()"
   ]
  },
  {
   "cell_type": "code",
   "execution_count": 85,
   "id": "30fc512b",
   "metadata": {},
   "outputs": [
    {
     "data": {
      "text/plain": [
       "<matplotlib.image.AxesImage at 0x1c8907ad9c0>"
      ]
     },
     "execution_count": 85,
     "metadata": {},
     "output_type": "execute_result"
    },
    {
     "data": {
      "image/png": "[encoded data removed]",
      "text/plain": [
       "<Figure size 432x288 with 1 Axes>"
      ]
     },
     "metadata": {
      "needs_background": "light"
     },
     "output_type": "display_data"
    }
   ],
   "source": [
    "plt.imshow(input_img)"
   ]
  },
  {
   "cell_type": "code",
   "execution_count": null,
   "id": "42166b2b",
   "metadata": {},
   "outputs": [],
   "source": []
  }
 ],
 "metadata": {
  "kernelspec": {
   "display_name": "Python [conda env:machinelearning]",
   "language": "python",
   "name": "conda-env-machinelearning-py"
  },
  "language_info": {
   "codemirror_mode": {
    "name": "ipython",
    "version": 3
   },
   "file_extension": ".py",
   "mimetype": "text/x-python",
   "name": "python",
   "nbconvert_exporter": "python",
   "pygments_lexer": "ipython3",
   "version": "3.10.4"
  }
 },
 "nbformat": 4,
 "nbformat_minor": 5
}
